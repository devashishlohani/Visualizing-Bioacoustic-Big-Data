{
 "cells": [
  {
   "cell_type": "markdown",
   "metadata": {},
   "source": [
    "Description:\n",
    "Visualizing Timit Sound Data with tSNE(t-distributed Stochastic Neighbor Embedding) technique in two dimensions with a Scatter Plot.\n",
    "The objective is to see some shape or clusters of the 8 vowels ( 'aa', 'ae', 'ah', 'eh', 'ih', 'iy', 'uh', 'uw' ) present in the high-dimensional input data.\n",
    "\n",
    "Method Used: Exact tSNE\n",
    "\n",
    "Preprocessing Done: \n",
    "Normalization of data according to the 64 dimensional frequency bands.\n",
    "Transformed the shape of each sample to 192 dimensions.\n",
    "\n",
    "tSNE Parameters Used:\n",
    "n_components : 2 (2 dimensions)\n",
    "Total Samples Used: 100\n",
    "Learning Rate: 1000 (It can be a critical parameter)\n",
    "Perplexity: 30 (Effective number of neighbours, size of gaussian)\n",
    "Other parameters are non- critical, so kept default.\n",
    "\n",
    "Labels or Legends: The 8 timit vowels each in a different color."
   ]
  },
  {
   "cell_type": "code",
   "execution_count": 54,
   "metadata": {
    "collapsed": false
   },
   "outputs": [],
   "source": [
    "import sys\n",
    "sys.path.append('/home/deva/PycharmProjects/Visualizing-Bioacoustic-Big-Data/tSNE_lib')\n",
    "from dataset import Dataset\n",
    "from tSNE_utils import tSNE\n",
    "from plot_embedding import Plot_embedding as Pl\n",
    "from time import time\n",
    "import matplotlib.pyplot as plt\n",
    "import numpy as np\n",
    "import random\n",
    "import os\n",
    "import urllib.request\n",
    "%matplotlib inline"
   ]
  },
  {
   "cell_type": "markdown",
   "metadata": {},
   "source": [
    "Give a link to the input file for tSNE"
   ]
  },
  {
   "cell_type": "code",
   "execution_count": 55,
   "metadata": {
    "collapsed": false
   },
   "outputs": [],
   "source": [
    "file_name, headers = urllib.request.urlretrieve('http://sabiod.univ-tln.fr/workspace/TIMIT/features/dataset_chirplet.jl')"
   ]
  },
  {
   "cell_type": "markdown",
   "metadata": {},
   "source": [
    "The File is stored temporarily in the system."
   ]
  },
  {
   "cell_type": "code",
   "execution_count": 56,
   "metadata": {
    "collapsed": false
   },
   "outputs": [
    {
     "data": {
      "text/plain": [
       "'/tmp/tmp1blb8xhb'"
      ]
     },
     "execution_count": 56,
     "metadata": {},
     "output_type": "execute_result"
    }
   ],
   "source": [
    "file_name"
   ]
  },
  {
   "cell_type": "markdown",
   "metadata": {},
   "source": [
    "Call the Dataset Class for processing the data and labels"
   ]
  },
  {
   "cell_type": "code",
   "execution_count": 57,
   "metadata": {
    "collapsed": false
   },
   "outputs": [],
   "source": [
    "dataset = Dataset(file_name) \n",
    "os.remove(file_name)"
   ]
  },
  {
   "cell_type": "markdown",
   "metadata": {
    "collapsed": true
   },
   "source": [
    "Get the Data for the tSNE from the Dataset Object"
   ]
  },
  {
   "cell_type": "code",
   "execution_count": 58,
   "metadata": {
    "collapsed": true
   },
   "outputs": [],
   "source": [
    "data = dataset.data"
   ]
  },
  {
   "cell_type": "code",
   "execution_count": 59,
   "metadata": {
    "collapsed": false
   },
   "outputs": [
    {
     "data": {
      "text/plain": [
       "array([[-0.63886093, -3.70778967,  2.04893738, ...,  2.77891863,\n",
       "         1.91507511,  1.32852051],\n",
       "       [ 0.30937609, -2.1013132 ,  0.66201369, ...,  1.08544513,\n",
       "         3.15766032,  0.72474895],\n",
       "       [ 0.58442191, -2.21605482,  0.1233555 , ..., -1.28374652,\n",
       "        -1.29172311,  0.91281973],\n",
       "       ..., \n",
       "       [ 0.12841398,  0.68825637, -1.14529532, ..., -0.12027072,\n",
       "         1.08039865, -1.12605305],\n",
       "       [-0.13125757,  0.82243588, -0.73394857, ..., -0.9163407 ,\n",
       "        -0.13165842,  1.06834889],\n",
       "       [-0.35510276,  1.30649522, -0.56186696, ..., -1.17487744,\n",
       "        -1.46408127,  1.84584494]])"
      ]
     },
     "execution_count": 59,
     "metadata": {},
     "output_type": "execute_result"
    }
   ],
   "source": [
    "data"
   ]
  },
  {
   "cell_type": "code",
   "execution_count": 60,
   "metadata": {
    "collapsed": false
   },
   "outputs": [
    {
     "data": {
      "text/plain": [
       "(361874, 39)"
      ]
     },
     "execution_count": 60,
     "metadata": {},
     "output_type": "execute_result"
    }
   ],
   "source": [
    "data.shape"
   ]
  },
  {
   "cell_type": "markdown",
   "metadata": {},
   "source": [
    "Get the Labels array from the Dataset Object"
   ]
  },
  {
   "cell_type": "code",
   "execution_count": 61,
   "metadata": {
    "collapsed": true
   },
   "outputs": [],
   "source": [
    "labels = dataset.labels"
   ]
  },
  {
   "cell_type": "code",
   "execution_count": 62,
   "metadata": {
    "collapsed": false
   },
   "outputs": [
    {
     "data": {
      "text/plain": [
       "array([5, 5, 5, ..., 4, 4, 4])"
      ]
     },
     "execution_count": 62,
     "metadata": {},
     "output_type": "execute_result"
    }
   ],
   "source": [
    "labels"
   ]
  },
  {
   "cell_type": "code",
   "execution_count": 63,
   "metadata": {
    "collapsed": false
   },
   "outputs": [
    {
     "data": {
      "text/plain": [
       "(361874,)"
      ]
     },
     "execution_count": 63,
     "metadata": {},
     "output_type": "execute_result"
    }
   ],
   "source": [
    "labels.shape"
   ]
  },
  {
   "cell_type": "markdown",
   "metadata": {},
   "source": [
    "Specify the Legends for the labels and the colors."
   ]
  },
  {
   "cell_type": "code",
   "execution_count": 64,
   "metadata": {
    "collapsed": true
   },
   "outputs": [],
   "source": [
    "vowels = ['aa', 'ae', 'ah', 'eh', 'ih', 'iy', 'uh', 'uw'] \n",
    "color= ['#e41a1c', '#377eb8', '#4daf4a', '#984ea3', '#ff7f00', '#ffff33', '#a65628', '#f781bf']"
   ]
  },
  {
   "cell_type": "markdown",
   "metadata": {},
   "source": [
    "Set Desired tSNE parameters for running tSNE"
   ]
  },
  {
   "cell_type": "code",
   "execution_count": 65,
   "metadata": {
    "collapsed": true
   },
   "outputs": [],
   "source": [
    "per= 30                                                                      \n",
    "l_rate= 1000.0"
   ]
  },
  {
   "cell_type": "markdown",
   "metadata": {},
   "source": [
    "Choose the number of samples on which you want to run tSNE."
   ]
  },
  {
   "cell_type": "code",
   "execution_count": 66,
   "metadata": {
    "collapsed": true
   },
   "outputs": [],
   "source": [
    "n_samp = 100"
   ]
  },
  {
   "cell_type": "markdown",
   "metadata": {},
   "source": [
    "Get a random subsample to run tSNE"
   ]
  },
  {
   "cell_type": "code",
   "execution_count": 67,
   "metadata": {
    "collapsed": true
   },
   "outputs": [],
   "source": [
    "indices = np.arange(len(data))\n",
    "random.shuffle(indices)\n",
    "chosen_sample = indices[:n_samp]"
   ]
  },
  {
   "cell_type": "markdown",
   "metadata": {},
   "source": [
    "You can see the randomly chosen samples!"
   ]
  },
  {
   "cell_type": "code",
   "execution_count": 68,
   "metadata": {
    "collapsed": false
   },
   "outputs": [
    {
     "data": {
      "text/plain": [
       "array([ 53525, 319454, 188033,  68519, 193919,  45102, 337352, 210422,\n",
       "       183810, 198474, 246244,  63047, 292671, 328269, 335867, 142940,\n",
       "       132628, 330035,  77965, 171102,  61984, 302501,    741, 247058,\n",
       "       343144,  43097, 165907, 226331, 212593,  42930, 265940, 239689,\n",
       "       255586, 107471, 166054,  73904, 120653, 248376,  67485, 228887,\n",
       "        17561, 291621, 306443, 185479, 346767, 294784, 258568, 189245,\n",
       "       173670, 187610, 125751, 262449,  20226, 311196, 173400, 346176,\n",
       "       122068,  20464, 263769, 151934, 325353, 121552, 196927,  55083,\n",
       "       297980,  50532, 257702, 291281, 323172,  69449, 305602,  44426,\n",
       "       182673, 129194,  65748, 134488, 127375,  52518, 118234,  39328,\n",
       "       354037, 166433,  23152, 350448,  41714,  18148, 302646, 163809,\n",
       "       318966, 172314,  28028,  97618, 295818, 272986,  25481, 315238,\n",
       "       317947, 164021, 354134, 330150])"
      ]
     },
     "execution_count": 68,
     "metadata": {},
     "output_type": "execute_result"
    }
   ],
   "source": [
    "chosen_sample"
   ]
  },
  {
   "cell_type": "markdown",
   "metadata": {},
   "source": [
    "Run tSNE by calling the object of class tSNE with desired parameters."
   ]
  },
  {
   "cell_type": "code",
   "execution_count": 69,
   "metadata": {
    "collapsed": false,
    "scrolled": true
   },
   "outputs": [
    {
     "data": {
      "text/plain": [
       "array([[ -9.53018497e+01,   7.76853826e+01],\n",
       "       [  6.85997569e+02,  -1.14054768e+03],\n",
       "       [ -1.51850905e+02,   3.96557942e+02],\n",
       "       [  4.25985599e+02,  -1.48970555e+03],\n",
       "       [ -6.76092786e+02,  -1.29555805e+03],\n",
       "       [ -1.43568568e+01,  -9.61583682e+01],\n",
       "       [ -9.88063046e+01,   7.24750979e+00],\n",
       "       [  1.11661101e+02,  -7.40835819e+01],\n",
       "       [ -6.23561192e+01,  -8.87748455e+01],\n",
       "       [ -3.64737943e+02,  -1.86281828e+02],\n",
       "       [ -4.11370841e+02,   1.03101022e+03],\n",
       "       [ -4.10765276e+01,  -1.37665549e+01],\n",
       "       [ -1.36302812e+02,   1.92472284e+01],\n",
       "       [  5.22325215e+02,  -2.32758087e+01],\n",
       "       [ -1.12023212e+03,  -8.37412138e+02],\n",
       "       [  4.40185731e+02,  -9.24541358e+01],\n",
       "       [ -5.77817500e+01,   1.45839431e+03],\n",
       "       [  1.91812479e+02,   2.29171488e+01],\n",
       "       [ -9.44664453e+01,   1.13624772e+02],\n",
       "       [  2.33764298e+01,  -1.01819048e+02],\n",
       "       [  1.35004939e+02,  -3.54631060e+01],\n",
       "       [  7.50749138e+01,  -8.25304049e+01],\n",
       "       [  1.17045907e+02,   2.84689711e+01],\n",
       "       [  2.78012224e+01,   2.63994258e+02],\n",
       "       [  2.51238596e+02,  -1.40054557e+02],\n",
       "       [ -1.15665219e+02,  -2.26599373e+01],\n",
       "       [ -5.99807888e+01,   1.22502178e+02],\n",
       "       [ -1.01111114e+02,   4.24064010e+01],\n",
       "       [ -9.97995892e+01,   1.76048816e+02],\n",
       "       [  1.17256866e+02,  -3.16876841e+02],\n",
       "       [ -1.74483335e+02,   1.66212492e+02],\n",
       "       [ -2.79597403e+00,   6.66149256e+01],\n",
       "       [  3.57668535e+01,   1.21142100e+02],\n",
       "       [ -2.33910283e-01,   3.38239072e+01],\n",
       "       [ -1.69892792e+01,   9.80975187e+01],\n",
       "       [ -2.04542220e+01,  -3.47786452e+01],\n",
       "       [  9.76278821e+01,   1.10427470e+02],\n",
       "       [  1.33852326e+02,  -1.36636099e+02],\n",
       "       [  1.37896337e+00,  -6.51524180e+01],\n",
       "       [  1.37561038e+02,  -2.62533814e+00],\n",
       "       [ -6.69292052e+01,   2.95175544e+00],\n",
       "       [  1.74352321e+03,   7.99015218e+02],\n",
       "       [  5.83239515e+01,  -4.01964132e+01],\n",
       "       [ -9.66039164e+01,  -9.95500602e+01],\n",
       "       [  5.55713400e+00,   1.68412992e+00],\n",
       "       [ -8.47227129e+02,   1.41479378e+03],\n",
       "       [ -5.55360555e-01,  -1.56993093e+02],\n",
       "       [ -1.16408048e+02,  -6.45330118e+01],\n",
       "       [  3.30824788e+01,   2.09544116e+01],\n",
       "       [  3.68526508e+01,  -1.56633761e+01],\n",
       "       [  1.62920201e+01,   9.84081720e+01],\n",
       "       [ -6.12567037e+01,   3.52807486e+01],\n",
       "       [  1.85729734e+02,  -1.36668065e+02],\n",
       "       [  7.66663734e+01,   2.39646158e+02],\n",
       "       [  3.82295695e+01,  -7.06299388e+01],\n",
       "       [  2.05502910e+02,  -2.13031752e+02],\n",
       "       [ -1.00575355e+02,  -1.29610208e+03],\n",
       "       [ -1.87065530e+02,   2.85829788e+02],\n",
       "       [ -7.60105247e+01,  -3.80896645e+01],\n",
       "       [  6.22288775e+02,   1.06214482e+03],\n",
       "       [  2.52279640e+02,  -3.16094384e+02],\n",
       "       [ -1.42177951e+02,   7.53526437e+01],\n",
       "       [  6.25905827e+01,   1.10518117e+01],\n",
       "       [ -3.47912194e+01,   5.39879352e+01],\n",
       "       [  2.11171579e+02,  -3.70448449e+01],\n",
       "       [  1.04232486e+02,  -1.25749501e+02],\n",
       "       [ -2.46996338e+01,   1.65491655e+02],\n",
       "       [  2.89837298e+01,   1.58128384e+02],\n",
       "       [  1.48419366e+02,  -9.01912686e+01],\n",
       "       [  2.24729480e+02,   1.31280819e+03],\n",
       "       [  5.53829096e+01,   5.28970208e+01],\n",
       "       [  1.67099417e+02,  -4.60758353e+01],\n",
       "       [ -3.82757793e+01,  -1.75307500e+02],\n",
       "       [  3.30528600e+01,  -1.39964328e+02],\n",
       "       [  2.94987960e+02,  -1.94441881e+02],\n",
       "       [ -1.83998710e+02,   3.38436361e+02],\n",
       "       [ -1.55615744e+02,  -4.42444001e+01],\n",
       "       [ -5.71486724e+01,  -5.54217123e+02],\n",
       "       [  2.40052525e+01,   6.38134384e+02],\n",
       "       [ -1.35537337e+03,  -6.83075673e+02],\n",
       "       [ -2.94942446e+02,  -2.11202025e+02],\n",
       "       [ -4.40402047e+01,  -5.88352239e+01],\n",
       "       [ -3.27738904e+02,   1.56518380e+02],\n",
       "       [ -1.06459206e+01,   1.29862583e+02],\n",
       "       [  8.90898465e+01,   4.74222805e+01],\n",
       "       [  6.38008269e+01,  -1.20133451e+02],\n",
       "       [ -9.94226246e+01,   3.07279643e+02],\n",
       "       [  2.42221510e+02,   1.28569849e+02],\n",
       "       [ -2.69993891e+01,   1.74765829e+01],\n",
       "       [ -3.66424278e+01,  -1.19040344e+02],\n",
       "       [  9.27086215e+01,  -4.38993565e+01],\n",
       "       [ -1.32230389e+02,   1.25221160e+02],\n",
       "       [  8.99572589e+01,  -9.18462996e+00],\n",
       "       [  2.38636318e+01,   5.96157268e+01],\n",
       "       [ -2.86675225e+02,   2.27124616e+02],\n",
       "       [ -4.07160646e+02,   2.13745809e+01],\n",
       "       [  1.02141472e+01,  -3.28487443e+01],\n",
       "       [ -5.57163333e+01,   7.91362387e+01],\n",
       "       [  6.29618703e+01,   8.98231744e+01],\n",
       "       [  2.21318488e+02,  -6.38404523e+02]])"
      ]
     },
     "execution_count": 69,
     "metadata": {},
     "output_type": "execute_result"
    }
   ],
   "source": [
    "o = tSNE(data,chosen_sample,labels=labels,method='exact')\n",
    "Y = o.output()\n",
    "Y"
   ]
  },
  {
   "cell_type": "markdown",
   "metadata": {},
   "source": [
    "Saving the tSNE coordinates and plotting the result."
   ]
  },
  {
   "cell_type": "code",
   "execution_count": 70,
   "metadata": {
    "collapsed": false
   },
   "outputs": [
    {
     "data": {
      "image/png": "[encoded data removed]",
      "text/plain": [
       "<matplotlib.figure.Figure at 0x7f2a700daf28>"
      ]
     },
     "metadata": {},
     "output_type": "display_data"
    }
   ],
   "source": [
    "np.savetxt(\"Chirplet_tSNEcoordinates.txt\", Y)\n",
    "\n",
    "title= \"Visualizing Timit Data(Vowels) of %i samples in 2D with tSNE(Chirplet)\"% (n_samp)\n",
    "\n",
    "Pl(Y, o.train_labels, vowels, color, title)\n",
    "\n",
    "plt.show()"
   ]
  }
 ],
 "metadata": {
  "kernelspec": {
   "display_name": "Python 3",
   "language": "python",
   "name": "python3"
  },
  "language_info": {
   "codemirror_mode": {
    "name": "ipython",
    "version": 3.0
   },
   "file_extension": ".py",
   "mimetype": "text/x-python",
   "name": "python",
   "nbconvert_exporter": "python",
   "pygments_lexer": "ipython3",
   "version": "3.5.2"
  }
 },
 "nbformat": 4,
 "nbformat_minor": 0
}